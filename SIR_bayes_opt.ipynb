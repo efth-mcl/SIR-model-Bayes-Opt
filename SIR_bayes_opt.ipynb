{
 "cells": [
  {
   "cell_type": "code",
   "execution_count": 0,
   "metadata": {
    "colab": {},
    "colab_type": "code",
    "id": "dgTE5FxTICsR"
   },
   "outputs": [],
   "source": [
    "!pip install bayesian-optimization\n",
    "!git clone https://github.com/CSSEGISandData/COVID-19.git"
   ]
  },
  {
   "cell_type": "code",
   "execution_count": 0,
   "metadata": {
    "colab": {},
    "colab_type": "code",
    "id": "43Eo5ZqQvMH7"
   },
   "outputs": [],
   "source": [
    "from scipy.integrate import solve_ivp\n",
    "import numpy as np\n",
    "import matplotlib.pyplot as plt\n",
    "from bayes_opt import BayesianOptimization\n",
    "import pandas as pd"
   ]
  },
  {
   "cell_type": "code",
   "execution_count": 0,
   "metadata": {
    "colab": {},
    "colab_type": "code",
    "id": "m_4bZxL_TQgS"
   },
   "outputs": [],
   "source": [
    "df = pd.read_csv(\"COVID-19/csse_covid_19_data/csse_covid_19_time_series/time_series_covid19_recovered_global.csv\")\n",
    "rec = df[df['Country/Region']==\"Greece\"].values.T[4:].reshape(-1)"
   ]
  },
  {
   "cell_type": "code",
   "execution_count": 0,
   "metadata": {
    "colab": {},
    "colab_type": "code",
    "id": "FXQK9Szf7TH3"
   },
   "outputs": [],
   "source": [
    "df = pd.read_csv(\"COVID-19/csse_covid_19_data/csse_covid_19_time_series/time_series_covid19_confirmed_global.csv\")\n",
    "conf = df[df['Country/Region']==\"Greece\"].values.T[4:].reshape(-1)"
   ]
  },
  {
   "cell_type": "code",
   "execution_count": 155,
   "metadata": {
    "colab": {
     "base_uri": "https://localhost:8080/",
     "height": 296
    },
    "colab_type": "code",
    "id": "YOxSIBpNUL3e",
    "outputId": "2c6a2521-a0c4-4ab4-c9cf-ca057c2bf459"
   },
   "outputs": [
    {
     "data": {
      "text/plain": [
       "Text(0, 0.5, 'Data Recovered')"
      ]
     },
     "execution_count": 155,
     "metadata": {
      "tags": []
     },
     "output_type": "execute_result"
    },
    {
     "data": {
      "image/png": "[encoded data removed]",
      "text/plain": [
       "<Figure size 576x288 with 1 Axes>"
      ]
     },
     "metadata": {
      "tags": []
     },
     "output_type": "display_data"
    }
   ],
   "source": [
    "wg0 = np.where(conf>0)\n",
    "True_rec = rec[wg0]\n",
    "plt.figure(figsize=(8,4))\n",
    "plt.plot(True_rec)\n",
    "plt.xlabel('Days')\n",
    "plt.ylabel('Data Recovered')"
   ]
  },
  {
   "cell_type": "code",
   "execution_count": 0,
   "metadata": {
    "colab": {},
    "colab_type": "code",
    "id": "mvkSZbMPAl6K"
   },
   "outputs": [],
   "source": [
    "def SIR(t, sir, N, b, g):\n",
    "    S, I, R = sir\n",
    "    return [-b*S*I/N, b*S*I/N-g*I, g*I ]"
   ]
  },
  {
   "cell_type": "code",
   "execution_count": 147,
   "metadata": {
    "colab": {
     "base_uri": "https://localhost:8080/",
     "height": 609,
     "referenced_widgets": [
      "da81245b39164c07844887a07a958308",
      "06748146e5c3485b9b7ea6d6111ef694",
      "ec83ff6a736c41a2b8ba7e1d92aa2e0d",
      "6c26e5f31b9d4856b11d409f21954247",
      "ffbb90b50827428d8cb4c441377d7bb6",
      "00ba34f3d8184b6cbd0ced6f91474825",
      "34aafa4815534c7e95c228d68ae693b5",
      "47c41d5b17a941278948820fbb90f760",
      "6b1b4a0bd62945e884fd609a23f40a97",
      "2f1fe50b003f4360937a1739e81837aa",
      "96688f9fb7f4467bae2172befce57b8a",
      "f609c570d8c24fa8884e0376fc24576a"
     ]
    },
    "colab_type": "code",
    "id": "m6ZJDANXZbfQ",
    "outputId": "355accf9-6155-459c-b451-358ae472f493"
   },
   "outputs": [
    {
     "data": {
      "application/vnd.jupyter.widget-view+json": {
       "model_id": "da81245b39164c07844887a07a958308",
       "version_major": 2,
       "version_minor": 0
      },
      "text/plain": [
       "interactive(children=(FloatSlider(value=0.30000000000000004, description='b', max=0.5, min=0.1, step=0.001), F…"
      ]
     },
     "metadata": {
      "tags": []
     },
     "output_type": "display_data"
    }
   ],
   "source": [
    "%matplotlib inline\n",
    "from ipywidgets import interactive\n",
    "Pop = 3.756*10**6*0.001\n",
    "Pop = 4061\n",
    "D_T = True_rec.shape[0]\n",
    "T = D_T+20\n",
    "t = np.linspace(0, T, T)\n",
    "d_t = np.linspace(0,D_T,D_T)\n",
    "def f(b, g,Pop):\n",
    "    plt.figure(figsize=(16,8))\n",
    "    sol_ep = solve_ivp(SIR, [0, T], [0.999*Pop, 0.001*Pop, 0], args=(Pop, b, g), dense_output=True)\n",
    "    ep = sol_ep.sol(t)\n",
    "\n",
    "    plt.plot(t, ep.T[:,0], label = 'Susceptible')\n",
    "    plt.plot(t, ep.T[:,1],label='Infected')\n",
    "    plt.plot(t, ep.T[:,2], label='Recovered')\n",
    "    plt.plot(True_rec, label='True Data')\n",
    "    plt.xlabel('t')\n",
    "    plt.legend(shadow=True)\n",
    "    loss = (Pop*ep.T[:D_T,2]-True_rec)*np.linspace(0.001,1,D_T)\n",
    "    loss = (loss-np.mean(loss))/np.std(loss)\n",
    "    loss = np.mean(np.log(np.cosh(list(loss))))\n",
    "    plt.title('SIR Greece, {}'.format(loss))\n",
    "    plt.ylabel('Population')\n",
    "    plt.show()\n",
    "\n",
    "interactive_plot = interactive(f, b=(0.1,0.5,0.001), g=(0.01,0.05,0.001),Pop=(1*10**3,5*10**3))\n",
    "output = interactive_plot.children[-1]\n",
    "output.layout.height = '350px'\n",
    "interactive_plot"
   ]
  },
  {
   "cell_type": "code",
   "execution_count": 0,
   "metadata": {
    "colab": {},
    "colab_type": "code",
    "id": "YUC2NM6JJocH"
   },
   "outputs": [],
   "source": [
    "D_T = True_rec.shape[0]\n",
    "d_t = np.linspace(0,D_T,D_T)\n",
    "std = np.std(True_rec)\n",
    "mn = np.mean(True_rec)\n",
    "n_data = (True_rec-mn)/std\n",
    "F = 1\n",
    "def black_box_function(Pop, b, g):\n",
    "    sol_ep = solve_ivp(SIR, [0, D_T], [0.999*Pop, 0.001*Pop, 0], args=(Pop, b, g), dense_output=True)\n",
    "    ep = sol_ep.sol(d_t)\n",
    "    d = (ep.T[:,2]-mn)/std\n",
    "    d = (d-n_data)*np.linspace(0.001,F,D_T)\n",
    "    loss = np.mean(np.log(np.cosh(list(d))))\n",
    "    return -loss"
   ]
  },
  {
   "cell_type": "code",
   "execution_count": 0,
   "metadata": {
    "colab": {},
    "colab_type": "code",
    "id": "dYkk-CcINJua"
   },
   "outputs": [],
   "source": [
    "pbounds = {'Pop': (conf[-1]*1.2, 10*10**3),'b':(0.1,0.5), 'g':(0.01,0.05)}\n",
    "\n",
    "optimizer = BayesianOptimization(\n",
    "    f=black_box_function,\n",
    "    pbounds=pbounds,\n",
    "    verbose=2, # verbose = 1 prints only when a maximum is observed, verbose = 0 is silent\n",
    ")\n",
    "\n"
   ]
  },
  {
   "cell_type": "code",
   "execution_count": null,
   "metadata": {
    "colab": {
     "base_uri": "https://localhost:8080/",
     "height": 1000
    },
    "colab_type": "code",
    "id": "ezgoi8Y4e3RP",
    "outputId": "1e94efd4-fa3d-4a9c-c8ee-d16a520d67d8"
   },
   "outputs": [],
   "source": [
    "optimizer.maximize(init_points=50, n_iter=50)"
   ]
  },
  {
   "cell_type": "code",
   "execution_count": 142,
   "metadata": {
    "colab": {
     "base_uri": "https://localhost:8080/",
     "height": 86
    },
    "colab_type": "code",
    "id": "1Okh56eVPcSZ",
    "outputId": "ae9b92c6-8e64-4dca-c2d9-96d6046754ee"
   },
   "outputs": [
    {
     "data": {
      "text/plain": [
       "{'params': {'Pop': 4207.066585791539,\n",
       "  'b': 0.15950142917185214,\n",
       "  'g': 0.026386258654299888},\n",
       " 'target': -0.01625127762692438}"
      ]
     },
     "execution_count": 142,
     "metadata": {
      "tags": []
     },
     "output_type": "execute_result"
    }
   ],
   "source": [
    "optimizer.max"
   ]
  },
  {
   "cell_type": "code",
   "execution_count": 144,
   "metadata": {
    "colab": {
     "base_uri": "https://localhost:8080/",
     "height": 513
    },
    "colab_type": "code",
    "id": "V1kMb2pDl736",
    "outputId": "7754af22-f88a-4285-8e01-5026739b4ce2"
   },
   "outputs": [
    {
     "data": {
      "image/png": "[encoded data removed]",
      "text/plain": [
       "<Figure size 1152x576 with 1 Axes>"
      ]
     },
     "metadata": {
      "tags": []
     },
     "output_type": "display_data"
    }
   ],
   "source": [
    "%matplotlib inline\n",
    "from ipywidgets import interactive\n",
    "Pop = optimizer.max['params']['Pop']\n",
    "D_T = True_rec.shape[0]\n",
    "T = D_T+150\n",
    "t = np.linspace(0, T, T)\n",
    "d_t = np.linspace(0,D_T,D_T)\n",
    "b = optimizer.max['params']['b']\n",
    "g = optimizer.max['params']['g']\n",
    "plt.figure(figsize=(16,8))\n",
    "sol_ep = solve_ivp(SIR, [0, T], [0.999*Pop, 0.001*Pop, 0], args=(Pop, b, g), dense_output=True)\n",
    "ep = sol_ep.sol(t)\n",
    "\n",
    "plt.plot(t, ep.T[:,0], label = 'Susceptible')\n",
    "plt.plot(t, ep.T[:,1],label='Infected')\n",
    "plt.plot(t, ep.T[:,2], label='Recovered')\n",
    "plt.plot(True_rec, label='True Recoverd')\n",
    "plt.xlabel('t')\n",
    "plt.legend(shadow=True)\n",
    "\n",
    "\n",
    "d = (ep.T[:D_T,2]-mn)/std\n",
    "d = (d-n_data)*np.linspace(0.001,F,D_T)\n",
    "loss = np.mean(np.log(np.cosh(list(d))))\n",
    "\n",
    "plt.title('SIR Loss, {}'.format(loss))\n",
    "plt.ylabel('Population')\n",
    "plt.show()"
   ]
  },
  {
   "cell_type": "code",
   "execution_count": 145,
   "metadata": {
    "colab": {
     "base_uri": "https://localhost:8080/",
     "height": 86
    },
    "colab_type": "code",
    "id": "2YqlMNK-DC0Q",
    "outputId": "b3019abb-f76b-4d27-a1ea-1975280b7391"
   },
   "outputs": [
    {
     "name": "stdout",
     "output_type": "stream",
     "text": [
      "b 0.15950142917185214\n",
      "g 0.026386258654299888\n",
      "R0 6.044867188697094\n",
      "Pop 4207.066585791539\n"
     ]
    }
   ],
   "source": [
    "print('b', b)\n",
    "print('g', g)\n",
    "print('R0', b/g)\n",
    "print('Pop', Pop)"
   ]
  },
  {
   "cell_type": "markdown",
   "metadata": {
    "colab_type": "text",
    "id": "IeFcgjE7IH8i"
   },
   "source": [
    "# References\n",
    "* COVID-19 Data: https://github.com/CSSEGISandData/COVID-19\n",
    "* SIR model: https://en.wikipedia.org/wiki/Compartmental_models_in_epidemiology\n",
    "* Bayesian Optimization: https://github.com/fmfn/BayesianOptimization"
   ]
  }
 ],
 "metadata": {
  "colab": {
   "collapsed_sections": [],
   "name": "Untitled",
   "provenance": []
  },
  "kernelspec": {
   "display_name": "Python 3",
   "language": "python",
   "name": "python3"
  },
  "language_info": {
   "codemirror_mode": {
    "name": "ipython",
    "version": 2
   },
   "file_extension": ".py",
   "mimetype": "text/x-python",
   "name": "python",
   "nbconvert_exporter": "python",
   "pygments_lexer": "ipython2",
   "version": "2.7.17"
  },
  "widgets": {
   "application/vnd.jupyter.widget-state+json": {
    "00ba34f3d8184b6cbd0ced6f91474825": {
     "model_module": "@jupyter-widgets/output",
     "model_name": "OutputModel",
     "state": {
      "_dom_classes": [],
      "_model_module": "@jupyter-widgets/output",
      "_model_module_version": "1.0.0",
      "_model_name": "OutputModel",
      "_view_count": null,
      "_view_module": "@jupyter-widgets/output",
      "_view_module_version": "1.0.0",
      "_view_name": "OutputView",
      "layout": "IPY_MODEL_38eeab62c8004300a3939f921095b3f5",
      "msg_id": "",
      "outputs": [
       {
        "image/png": "iVBORw0KGgoAAAANSUhEUgAAA7kAAAHwCAYAAABjb6hNAAAABHNCSVQICAgIfAhkiAAAAAlwSFlz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\n",
        "metadata": {
         "tags": []
        },
        "output_type": "display_data",
        "text/plain": "<Figure size 1152x576 with 1 Axes>"
       }
      ]
     }
    },
    "06748146e5c3485b9b7ea6d6111ef694": {
     "model_module": "@jupyter-widgets/base",
     "model_name": "LayoutModel",
     "state": {
      "_model_module": "@jupyter-widgets/base",
      "_model_module_version": "1.2.0",
      "_model_name": "LayoutModel",
      "_view_count": null,
      "_view_module": "@jupyter-widgets/base",
      "_view_module_version": "1.2.0",
      "_view_name": "LayoutView",
      "align_content": null,
      "align_items": null,
      "align_self": null,
      "border": null,
      "bottom": null,
      "display": null,
      "flex": null,
      "flex_flow": null,
      "grid_area": null,
      "grid_auto_columns": null,
      "grid_auto_flow": null,
      "grid_auto_rows": null,
      "grid_column": null,
      "grid_gap": null,
      "grid_row": null,
      "grid_template_areas": null,
      "grid_template_columns": null,
      "grid_template_rows": null,
      "height": null,
      "justify_content": null,
      "justify_items": null,
      "left": null,
      "margin": null,
      "max_height": null,
      "max_width": null,
      "min_height": null,
      "min_width": null,
      "object_fit": null,
      "object_position": null,
      "order": null,
      "overflow": null,
      "overflow_x": null,
      "overflow_y": null,
      "padding": null,
      "right": null,
      "top": null,
      "visibility": null,
      "width": null
     }
    },
    "2f1fe50b003f4360937a1739e81837aa": {
     "model_module": "@jupyter-widgets/base",
     "model_name": "LayoutModel",
     "state": {
      "_model_module": "@jupyter-widgets/base",
      "_model_module_version": "1.2.0",
      "_model_name": "LayoutModel",
      "_view_count": null,
      "_view_module": "@jupyter-widgets/base",
      "_view_module_version": "1.2.0",
      "_view_name": "LayoutView",
      "align_content": null,
      "align_items": null,
      "align_self": null,
      "border": null,
      "bottom": null,
      "display": null,
      "flex": null,
      "flex_flow": null,
      "grid_area": null,
      "grid_auto_columns": null,
      "grid_auto_flow": null,
      "grid_auto_rows": null,
      "grid_column": null,
      "grid_gap": null,
      "grid_row": null,
      "grid_template_areas": null,
      "grid_template_columns": null,
      "grid_template_rows": null,
      "height": null,
      "justify_content": null,
      "justify_items": null,
      "left": null,
      "margin": null,
      "max_height": null,
      "max_width": null,
      "min_height": null,
      "min_width": null,
      "object_fit": null,
      "object_position": null,
      "order": null,
      "overflow": null,
      "overflow_x": null,
      "overflow_y": null,
      "padding": null,
      "right": null,
      "top": null,
      "visibility": null,
      "width": null
     }
    },
    "34aafa4815534c7e95c228d68ae693b5": {
     "model_module": "@jupyter-widgets/controls",
     "model_name": "SliderStyleModel",
     "state": {
      "_model_module": "@jupyter-widgets/controls",
      "_model_module_version": "1.5.0",
      "_model_name": "SliderStyleModel",
      "_view_count": null,
      "_view_module": "@jupyter-widgets/base",
      "_view_module_version": "1.2.0",
      "_view_name": "StyleView",
      "description_width": "",
      "handle_color": null
     }
    },
    "47c41d5b17a941278948820fbb90f760": {
     "model_module": "@jupyter-widgets/base",
     "model_name": "LayoutModel",
     "state": {
      "_model_module": "@jupyter-widgets/base",
      "_model_module_version": "1.2.0",
      "_model_name": "LayoutModel",
      "_view_count": null,
      "_view_module": "@jupyter-widgets/base",
      "_view_module_version": "1.2.0",
      "_view_name": "LayoutView",
      "align_content": null,
      "align_items": null,
      "align_self": null,
      "border": null,
      "bottom": null,
      "display": null,
      "flex": null,
      "flex_flow": null,
      "grid_area": null,
      "grid_auto_columns": null,
      "grid_auto_flow": null,
      "grid_auto_rows": null,
      "grid_column": null,
      "grid_gap": null,
      "grid_row": null,
      "grid_template_areas": null,
      "grid_template_columns": null,
      "grid_template_rows": null,
      "height": null,
      "justify_content": null,
      "justify_items": null,
      "left": null,
      "margin": null,
      "max_height": null,
      "max_width": null,
      "min_height": null,
      "min_width": null,
      "object_fit": null,
      "object_position": null,
      "order": null,
      "overflow": null,
      "overflow_x": null,
      "overflow_y": null,
      "padding": null,
      "right": null,
      "top": null,
      "visibility": null,
      "width": null
     }
    },
    "6b1b4a0bd62945e884fd609a23f40a97": {
     "model_module": "@jupyter-widgets/controls",
     "model_name": "SliderStyleModel",
     "state": {
      "_model_module": "@jupyter-widgets/controls",
      "_model_module_version": "1.5.0",
      "_model_name": "SliderStyleModel",
      "_view_count": null,
      "_view_module": "@jupyter-widgets/base",
      "_view_module_version": "1.2.0",
      "_view_name": "StyleView",
      "description_width": "",
      "handle_color": null
     }
    },
    "6c26e5f31b9d4856b11d409f21954247": {
     "model_module": "@jupyter-widgets/controls",
     "model_name": "FloatSliderModel",
     "state": {
      "_dom_classes": [],
      "_model_module": "@jupyter-widgets/controls",
      "_model_module_version": "1.5.0",
      "_model_name": "FloatSliderModel",
      "_view_count": null,
      "_view_module": "@jupyter-widgets/controls",
      "_view_module_version": "1.5.0",
      "_view_name": "FloatSliderView",
      "continuous_update": true,
      "description": "g",
      "description_tooltip": null,
      "disabled": false,
      "layout": "IPY_MODEL_2f1fe50b003f4360937a1739e81837aa",
      "max": 0.05,
      "min": 0.01,
      "orientation": "horizontal",
      "readout": true,
      "readout_format": ".2f",
      "step": 0.001,
      "style": "IPY_MODEL_6b1b4a0bd62945e884fd609a23f40a97",
      "value": 0.036
     }
    },
    "96688f9fb7f4467bae2172befce57b8a": {
     "model_module": "@jupyter-widgets/controls",
     "model_name": "SliderStyleModel",
     "state": {
      "_model_module": "@jupyter-widgets/controls",
      "_model_module_version": "1.5.0",
      "_model_name": "SliderStyleModel",
      "_view_count": null,
      "_view_module": "@jupyter-widgets/base",
      "_view_module_version": "1.2.0",
      "_view_name": "StyleView",
      "description_width": "",
      "handle_color": null
     }
    },
    "da81245b39164c07844887a07a958308": {
     "model_module": "@jupyter-widgets/controls",
     "model_name": "VBoxModel",
     "state": {
      "_dom_classes": [
       "widget-interact"
      ],
      "_model_module": "@jupyter-widgets/controls",
      "_model_module_version": "1.5.0",
      "_model_name": "VBoxModel",
      "_view_count": null,
      "_view_module": "@jupyter-widgets/controls",
      "_view_module_version": "1.5.0",
      "_view_name": "VBoxView",
      "box_style": "",
      "children": [
       "IPY_MODEL_ec83ff6a736c41a2b8ba7e1d92aa2e0d",
       "IPY_MODEL_6c26e5f31b9d4856b11d409f21954247",
       "IPY_MODEL_ffbb90b50827428d8cb4c441377d7bb6",
       "IPY_MODEL_00ba34f3d8184b6cbd0ced6f91474825"
      ],
      "layout": "IPY_MODEL_06748146e5c3485b9b7ea6d6111ef694"
     }
    },
    "ec83ff6a736c41a2b8ba7e1d92aa2e0d": {
     "model_module": "@jupyter-widgets/controls",
     "model_name": "FloatSliderModel",
     "state": {
      "_dom_classes": [],
      "_model_module": "@jupyter-widgets/controls",
      "_model_module_version": "1.5.0",
      "_model_name": "FloatSliderModel",
      "_view_count": null,
      "_view_module": "@jupyter-widgets/controls",
      "_view_module_version": "1.5.0",
      "_view_name": "FloatSliderView",
      "continuous_update": true,
      "description": "b",
      "description_tooltip": null,
      "disabled": false,
      "layout": "IPY_MODEL_47c41d5b17a941278948820fbb90f760",
      "max": 0.5,
      "min": 0.1,
      "orientation": "horizontal",
      "readout": true,
      "readout_format": ".2f",
      "step": 0.001,
      "style": "IPY_MODEL_34aafa4815534c7e95c228d68ae693b5",
      "value": 0.148
     }
    },
    "f609c570d8c24fa8884e0376fc24576a": {
     "model_module": "@jupyter-widgets/base",
     "model_name": "LayoutModel",
     "state": {
      "_model_module": "@jupyter-widgets/base",
      "_model_module_version": "1.2.0",
      "_model_name": "LayoutModel",
      "_view_count": null,
      "_view_module": "@jupyter-widgets/base",
      "_view_module_version": "1.2.0",
      "_view_name": "LayoutView",
      "align_content": null,
      "align_items": null,
      "align_self": null,
      "border": null,
      "bottom": null,
      "display": null,
      "flex": null,
      "flex_flow": null,
      "grid_area": null,
      "grid_auto_columns": null,
      "grid_auto_flow": null,
      "grid_auto_rows": null,
      "grid_column": null,
      "grid_gap": null,
      "grid_row": null,
      "grid_template_areas": null,
      "grid_template_columns": null,
      "grid_template_rows": null,
      "height": null,
      "justify_content": null,
      "justify_items": null,
      "left": null,
      "margin": null,
      "max_height": null,
      "max_width": null,
      "min_height": null,
      "min_width": null,
      "object_fit": null,
      "object_position": null,
      "order": null,
      "overflow": null,
      "overflow_x": null,
      "overflow_y": null,
      "padding": null,
      "right": null,
      "top": null,
      "visibility": null,
      "width": null
     }
    },
    "ffbb90b50827428d8cb4c441377d7bb6": {
     "model_module": "@jupyter-widgets/controls",
     "model_name": "IntSliderModel",
     "state": {
      "_dom_classes": [],
      "_model_module": "@jupyter-widgets/controls",
      "_model_module_version": "1.5.0",
      "_model_name": "IntSliderModel",
      "_view_count": null,
      "_view_module": "@jupyter-widgets/controls",
      "_view_module_version": "1.5.0",
      "_view_name": "IntSliderView",
      "continuous_update": true,
      "description": "Pop",
      "description_tooltip": null,
      "disabled": false,
      "layout": "IPY_MODEL_f609c570d8c24fa8884e0376fc24576a",
      "max": 5000,
      "min": 1000,
      "orientation": "horizontal",
      "readout": true,
      "readout_format": "d",
      "step": 1,
      "style": "IPY_MODEL_96688f9fb7f4467bae2172befce57b8a",
      "value": 5000
     }
    }
   }
  }
 },
 "nbformat": 4,
 "nbformat_minor": 1
}
