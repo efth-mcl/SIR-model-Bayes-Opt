{
 "cells": [
  {
   "cell_type": "code",
   "execution_count": 0,
   "metadata": {
    "colab": {},
    "colab_type": "code",
    "id": "dgTE5FxTICsR"
   },
   "outputs": [],
   "source": [
    "!pip install bayesian-optimization\n",
    "!git clone https://github.com/CSSEGISandData/COVID-19.git"
   ]
  },
  {
   "cell_type": "code",
   "execution_count": 0,
   "metadata": {
    "colab": {},
    "colab_type": "code",
    "id": "43Eo5ZqQvMH7"
   },
   "outputs": [],
   "source": [
    "from scipy.integrate import solve_ivp\n",
    "import numpy as np\n",
    "import matplotlib.pyplot as plt\n",
    "from bayes_opt import BayesianOptimization\n",
    "import pandas as pd"
   ]
  },
  {
   "cell_type": "code",
   "execution_count": 0,
   "metadata": {
    "colab": {},
    "colab_type": "code",
    "id": "m_4bZxL_TQgS"
   },
   "outputs": [],
   "source": [
    "df = pd.read_csv(\"COVID-19/csse_covid_19_data/csse_covid_19_time_series/time_series_covid19_recovered_global.csv\")\n",
    "rec = df[df['Country/Region']==\"Greece\"].values.T[4:].reshape(-1)"
   ]
  },
  {
   "cell_type": "code",
   "execution_count": 0,
   "metadata": {
    "colab": {},
    "colab_type": "code",
    "id": "VAe3725h8QNC"
   },
   "outputs": [],
   "source": [
    "df = pd.read_csv(\"COVID-19/csse_covid_19_data/csse_covid_19_time_series/time_series_covid19_confirmed_global.csv\")\n",
    "conf = df[df['Country/Region']==\"Greece\"].values.T[4:].reshape(-1)"
   ]
  },
  {
   "cell_type": "code",
   "execution_count": 6,
   "metadata": {
    "colab": {
     "base_uri": "https://localhost:8080/",
     "height": 296
    },
    "colab_type": "code",
    "id": "YOxSIBpNUL3e",
    "outputId": "02f27450-9e20-4449-f4bb-1aa822e1dd03"
   },
   "outputs": [
    {
     "data": {
      "text/plain": [
       "Text(0, 0.5, 'Data Recovered')"
      ]
     },
     "execution_count": 6,
     "metadata": {
      "tags": []
     },
     "output_type": "execute_result"
    },
    {
     "data": {
      "image/png": "[encoded data removed]",
      "text/plain": [
       "<Figure size 576x288 with 1 Axes>"
      ]
     },
     "metadata": {
      "tags": []
     },
     "output_type": "display_data"
    }
   ],
   "source": [
    "wg0 = np.where(conf>0)\n",
    "True_rec = rec[wg0]\n",
    "plt.figure(figsize=(8,4))\n",
    "plt.plot(True_rec)\n",
    "plt.xlabel('Days')\n",
    "plt.ylabel('Data Recovered')"
   ]
  },
  {
   "cell_type": "code",
   "execution_count": 0,
   "metadata": {
    "colab": {},
    "colab_type": "code",
    "id": "mvkSZbMPAl6K"
   },
   "outputs": [],
   "source": [
    "def SIR(t, sir, N, b, g):\n",
    "    S, I, R = sir\n",
    "    return [-b*S*I/N, b*S*I/N-g*I, g*I ]"
   ]
  },
  {
   "cell_type": "code",
   "execution_count": 0,
   "metadata": {
    "colab": {},
    "colab_type": "code",
    "id": "sxFrfYBGuvL0"
   },
   "outputs": [],
   "source": [
    "D_T = True_rec.shape[0]\n",
    "d_t = np.linspace(0,D_T,D_T)\n",
    "std = np.std(True_rec)\n",
    "mn = np.mean(True_rec)\n",
    "n_data = (True_rec-mn)/std\n",
    "# 'a' could be hyperparameter, 'a'>0, if 'a' == 0 then we have equal strength for all time series\n",
    "a=1.5\n",
    "Time_strength = np.linspace(0,1,D_T)\n",
    "Time_strength = 1-np.power((1-np.power(Time_strength,a)),1/a)"
   ]
  },
  {
   "cell_type": "code",
   "execution_count": 64,
   "metadata": {
    "colab": {
     "base_uri": "https://localhost:8080/",
     "height": 532,
     "referenced_widgets": [
      "b72c0876b26740d9aec76d293215db3e",
      "6579ccd2ecc1489aab6c33e629742abd",
      "2459a8b8723b464380a3c55f08281aa0",
      "c8d523c316284c0193cc182d8dfce444",
      "f0183073b166455d96e9a1decaa6938e",
      "ec601ea4910a4983bedfc94b1303ad3a",
      "e6e51398567b4d69935f7e43ba68135f",
      "0af17fe1e8274f7092b7ea60747c27da",
      "4f53389f39304840892d707301a573b1",
      "96464bee57ad4789a1423b1cb0197c6c",
      "f5e66f94fed74a0ba02086c07016c4bf",
      "aec6f4bfb6a24f96b31a92592a12293a"
     ]
    },
    "colab_type": "code",
    "id": "m6ZJDANXZbfQ",
    "outputId": "731e96a9-a290-43d4-bab0-cc1ce4d66e5b"
   },
   "outputs": [
    {
     "data": {
      "application/vnd.jupyter.widget-view+json": {
       "model_id": "b72c0876b26740d9aec76d293215db3e",
       "version_major": 2,
       "version_minor": 0
      },
      "text/plain": [
       "interactive(children=(FloatSlider(value=0.505, description='b', max=1.0, min=0.01, step=0.0001), FloatSlider(v…"
      ]
     },
     "metadata": {
      "tags": []
     },
     "output_type": "display_data"
    }
   ],
   "source": [
    "%matplotlib inline\n",
    "from ipywidgets import interactive\n",
    "T = D_T+120\n",
    "t = np.linspace(0, T, T)\n",
    "def f(b, g,Pop):\n",
    "    plt.figure(figsize=(16,8))\n",
    "    sol_ep = solve_ivp(SIR, [0, T], [0.999*Pop, 0.001*Pop, b/g], args=(Pop, b, g), dense_output=True)\n",
    "    ep = sol_ep.sol(t)\n",
    "\n",
    "    plt.plot(t, ep.T[:,0], label = 'Susceptible')\n",
    "    plt.plot(t, ep.T[:,1],label='Infected')\n",
    "    plt.plot(t, ep.T[:,2], label='Recovered')\n",
    "    plt.plot(True_rec, label='True Data')\n",
    "    plt.xlabel('t')\n",
    "    plt.legend(shadow=True)\n",
    "\n",
    "    loss = (ep.T[:D_T,2]-mn)/std\n",
    "    loss = (loss-n_data)*Time_strength\n",
    "    loss = np.mean(np.log(np.cosh(list(loss))))\n",
    "\n",
    "    plt.title('SIR Greece, {}'.format(loss))\n",
    "    plt.ylabel('Population')\n",
    "    plt.show()\n",
    "\n",
    "interactive_plot = interactive(f, b=(0.01,1,0.0001), g=(0.01,0.1,0.00001),Pop=(1*10**3,10*10**3))\n",
    "output = interactive_plot.children[-1]\n",
    "output.layout.height = '350px'\n",
    "interactive_plot"
   ]
  },
  {
   "cell_type": "code",
   "execution_count": 0,
   "metadata": {
    "colab": {},
    "colab_type": "code",
    "id": "YUC2NM6JJocH"
   },
   "outputs": [],
   "source": [
    "def black_box_function(Pop, b, g):\n",
    "    sol_ep = solve_ivp(SIR, [0, D_T], [0.999*Pop, 0.001*Pop, b/g], args=(Pop, b, g), dense_output=True)\n",
    "    ep = sol_ep.sol(d_t)\n",
    "    \n",
    "    loss = (ep.T[:,2]-mn)/std\n",
    "    loss = (loss-n_data)*Time_strength\n",
    "    loss = np.mean(np.log(np.cosh(list(loss))))\n",
    "\n",
    "    return -loss"
   ]
  },
  {
   "cell_type": "code",
   "execution_count": 0,
   "metadata": {
    "colab": {},
    "colab_type": "code",
    "id": "dYkk-CcINJua"
   },
   "outputs": [],
   "source": [
    "pbounds = {'Pop': (conf[-1], conf[-1]*10),'b':(0.1,1), 'g':(0.01,0.05)}\n",
    "\n",
    "optimizer = BayesianOptimization(\n",
    "    f=black_box_function,\n",
    "    pbounds=pbounds,\n",
    "    verbose=2\n",
    ")"
   ]
  },
  {
   "cell_type": "code",
   "execution_count": 0,
   "metadata": {
    "colab": {},
    "colab_type": "code",
    "id": "ezgoi8Y4e3RP"
   },
   "outputs": [],
   "source": [
    "optimizer.maximize(init_points=100, n_iter=100)"
   ]
  },
  {
   "cell_type": "code",
   "execution_count": 77,
   "metadata": {
    "colab": {
     "base_uri": "https://localhost:8080/",
     "height": 86
    },
    "colab_type": "code",
    "id": "1Okh56eVPcSZ",
    "outputId": "441047de-739a-4f6d-b349-9ebc28237a74"
   },
   "outputs": [
    {
     "data": {
      "text/plain": [
       "{'params': {'Pop': 6220.076349971285,\n",
       "  'b': 0.12529956444297383,\n",
       "  'g': 0.046028253696086624},\n",
       " 'target': -0.010961890475561653}"
      ]
     },
     "execution_count": 77,
     "metadata": {
      "tags": []
     },
     "output_type": "execute_result"
    }
   ],
   "source": [
    "optimizer.max"
   ]
  },
  {
   "cell_type": "code",
   "execution_count": 78,
   "metadata": {
    "colab": {
     "base_uri": "https://localhost:8080/",
     "height": 436
    },
    "colab_type": "code",
    "id": "V1kMb2pDl736",
    "outputId": "46e7ea84-5113-4140-d9d9-207210f4a017"
   },
   "outputs": [
    {
     "data": {
      "image/png": "[encoded data removed]",
      "text/plain": [
       "<Figure size 1152x576 with 1 Axes>"
      ]
     },
     "metadata": {
      "tags": []
     },
     "output_type": "display_data"
    }
   ],
   "source": [
    "%matplotlib inline\n",
    "from ipywidgets import interactive\n",
    "T = D_T+120\n",
    "t = np.linspace(0, T, T)\n",
    "Pop = optimizer.max['params']['Pop']\n",
    "b = optimizer.max['params']['b']\n",
    "g = optimizer.max['params']['g']\n",
    "loss = -optimizer.max['target']\n",
    "sol_ep = solve_ivp(SIR, [0, T], [0.999*Pop, 0.001*Pop, b/g], args=(Pop, b, g), dense_output=True)\n",
    "ep = sol_ep.sol(t)\n",
    "\n",
    "plt.figure(figsize=(16,8))\n",
    "plt.plot(t, ep.T[:,0], label = 'Susceptible')\n",
    "plt.plot(t, ep.T[:,1],label='Infected')\n",
    "plt.plot(t, ep.T[:,2], label='Recovered')\n",
    "plt.plot(True_rec, label='True Recoverd')\n",
    "plt.xlabel('Days')\n",
    "plt.legend(shadow=True)\n",
    "\n",
    "plt.title('SIR Loss, {}'.format(loss))\n",
    "plt.ylabel('Population')\n",
    "plt.show()"
   ]
  },
  {
   "cell_type": "code",
   "execution_count": 79,
   "metadata": {
    "colab": {
     "base_uri": "https://localhost:8080/",
     "height": 86
    },
    "colab_type": "code",
    "id": "2YqlMNK-DC0Q",
    "outputId": "b0fdbb49-e590-4dcb-f339-46ec4cb2bc3b"
   },
   "outputs": [
    {
     "name": "stdout",
     "output_type": "stream",
     "text": [
      "b 0.12529956444297383\n",
      "g 0.046028253696086624\n",
      "R0 2.7222315508708284\n",
      "Pop 6220.076349971285\n"
     ]
    }
   ],
   "source": [
    "print('b', b)\n",
    "print('g', g)\n",
    "print('R0', b/g)\n",
    "print('Pop', Pop)"
   ]
  },
  {
   "cell_type": "markdown",
   "metadata": {
    "colab_type": "text",
    "id": "IeFcgjE7IH8i"
   },
   "source": [
    "# References\n",
    "* COVID-19 Data: https://github.com/CSSEGISandData/COVID-19\n",
    "* SIR model: https://en.wikipedia.org/wiki/Compartmental_models_in_epidemiology\n",
    "*Bayesian Optimization: https://github.com/fmfn/BayesianOptimization"
   ]
  }
 ],
 "metadata": {
  "colab": {
   "collapsed_sections": [],
   "name": "Untitled",
   "provenance": []
  },
  "kernelspec": {
   "display_name": "Python 3",
   "language": "python",
   "name": "python3"
  },
  "language_info": {
   "codemirror_mode": {
    "name": "ipython",
    "version": 2
   },
   "file_extension": ".py",
   "mimetype": "text/x-python",
   "name": "python",
   "nbconvert_exporter": "python",
   "pygments_lexer": "ipython2",
   "version": "2.7.17"
  },
  "widgets": {
   "application/vnd.jupyter.widget-state+json": {
    "0af17fe1e8274f7092b7ea60747c27da": {
     "model_module": "@jupyter-widgets/base",
     "model_name": "LayoutModel",
     "state": {
      "_model_module": "@jupyter-widgets/base",
      "_model_module_version": "1.2.0",
      "_model_name": "LayoutModel",
      "_view_count": null,
      "_view_module": "@jupyter-widgets/base",
      "_view_module_version": "1.2.0",
      "_view_name": "LayoutView",
      "align_content": null,
      "align_items": null,
      "align_self": null,
      "border": null,
      "bottom": null,
      "display": null,
      "flex": null,
      "flex_flow": null,
      "grid_area": null,
      "grid_auto_columns": null,
      "grid_auto_flow": null,
      "grid_auto_rows": null,
      "grid_column": null,
      "grid_gap": null,
      "grid_row": null,
      "grid_template_areas": null,
      "grid_template_columns": null,
      "grid_template_rows": null,
      "height": null,
      "justify_content": null,
      "justify_items": null,
      "left": null,
      "margin": null,
      "max_height": null,
      "max_width": null,
      "min_height": null,
      "min_width": null,
      "object_fit": null,
      "object_position": null,
      "order": null,
      "overflow": null,
      "overflow_x": null,
      "overflow_y": null,
      "padding": null,
      "right": null,
      "top": null,
      "visibility": null,
      "width": null
     }
    },
    "2459a8b8723b464380a3c55f08281aa0": {
     "model_module": "@jupyter-widgets/controls",
     "model_name": "FloatSliderModel",
     "state": {
      "_dom_classes": [],
      "_model_module": "@jupyter-widgets/controls",
      "_model_module_version": "1.5.0",
      "_model_name": "FloatSliderModel",
      "_view_count": null,
      "_view_module": "@jupyter-widgets/controls",
      "_view_module_version": "1.5.0",
      "_view_name": "FloatSliderView",
      "continuous_update": true,
      "description": "b",
      "description_tooltip": null,
      "disabled": false,
      "layout": "IPY_MODEL_0af17fe1e8274f7092b7ea60747c27da",
      "max": 1,
      "min": 0.01,
      "orientation": "horizontal",
      "readout": true,
      "readout_format": ".2f",
      "step": 0.0001,
      "style": "IPY_MODEL_e6e51398567b4d69935f7e43ba68135f",
      "value": 0.505
     }
    },
    "4f53389f39304840892d707301a573b1": {
     "model_module": "@jupyter-widgets/controls",
     "model_name": "SliderStyleModel",
     "state": {
      "_model_module": "@jupyter-widgets/controls",
      "_model_module_version": "1.5.0",
      "_model_name": "SliderStyleModel",
      "_view_count": null,
      "_view_module": "@jupyter-widgets/base",
      "_view_module_version": "1.2.0",
      "_view_name": "StyleView",
      "description_width": "",
      "handle_color": null
     }
    },
    "6579ccd2ecc1489aab6c33e629742abd": {
     "model_module": "@jupyter-widgets/base",
     "model_name": "LayoutModel",
     "state": {
      "_model_module": "@jupyter-widgets/base",
      "_model_module_version": "1.2.0",
      "_model_name": "LayoutModel",
      "_view_count": null,
      "_view_module": "@jupyter-widgets/base",
      "_view_module_version": "1.2.0",
      "_view_name": "LayoutView",
      "align_content": null,
      "align_items": null,
      "align_self": null,
      "border": null,
      "bottom": null,
      "display": null,
      "flex": null,
      "flex_flow": null,
      "grid_area": null,
      "grid_auto_columns": null,
      "grid_auto_flow": null,
      "grid_auto_rows": null,
      "grid_column": null,
      "grid_gap": null,
      "grid_row": null,
      "grid_template_areas": null,
      "grid_template_columns": null,
      "grid_template_rows": null,
      "height": null,
      "justify_content": null,
      "justify_items": null,
      "left": null,
      "margin": null,
      "max_height": null,
      "max_width": null,
      "min_height": null,
      "min_width": null,
      "object_fit": null,
      "object_position": null,
      "order": null,
      "overflow": null,
      "overflow_x": null,
      "overflow_y": null,
      "padding": null,
      "right": null,
      "top": null,
      "visibility": null,
      "width": null
     }
    },
    "96464bee57ad4789a1423b1cb0197c6c": {
     "model_module": "@jupyter-widgets/base",
     "model_name": "LayoutModel",
     "state": {
      "_model_module": "@jupyter-widgets/base",
      "_model_module_version": "1.2.0",
      "_model_name": "LayoutModel",
      "_view_count": null,
      "_view_module": "@jupyter-widgets/base",
      "_view_module_version": "1.2.0",
      "_view_name": "LayoutView",
      "align_content": null,
      "align_items": null,
      "align_self": null,
      "border": null,
      "bottom": null,
      "display": null,
      "flex": null,
      "flex_flow": null,
      "grid_area": null,
      "grid_auto_columns": null,
      "grid_auto_flow": null,
      "grid_auto_rows": null,
      "grid_column": null,
      "grid_gap": null,
      "grid_row": null,
      "grid_template_areas": null,
      "grid_template_columns": null,
      "grid_template_rows": null,
      "height": null,
      "justify_content": null,
      "justify_items": null,
      "left": null,
      "margin": null,
      "max_height": null,
      "max_width": null,
      "min_height": null,
      "min_width": null,
      "object_fit": null,
      "object_position": null,
      "order": null,
      "overflow": null,
      "overflow_x": null,
      "overflow_y": null,
      "padding": null,
      "right": null,
      "top": null,
      "visibility": null,
      "width": null
     }
    },
    "aec6f4bfb6a24f96b31a92592a12293a": {
     "model_module": "@jupyter-widgets/base",
     "model_name": "LayoutModel",
     "state": {
      "_model_module": "@jupyter-widgets/base",
      "_model_module_version": "1.2.0",
      "_model_name": "LayoutModel",
      "_view_count": null,
      "_view_module": "@jupyter-widgets/base",
      "_view_module_version": "1.2.0",
      "_view_name": "LayoutView",
      "align_content": null,
      "align_items": null,
      "align_self": null,
      "border": null,
      "bottom": null,
      "display": null,
      "flex": null,
      "flex_flow": null,
      "grid_area": null,
      "grid_auto_columns": null,
      "grid_auto_flow": null,
      "grid_auto_rows": null,
      "grid_column": null,
      "grid_gap": null,
      "grid_row": null,
      "grid_template_areas": null,
      "grid_template_columns": null,
      "grid_template_rows": null,
      "height": null,
      "justify_content": null,
      "justify_items": null,
      "left": null,
      "margin": null,
      "max_height": null,
      "max_width": null,
      "min_height": null,
      "min_width": null,
      "object_fit": null,
      "object_position": null,
      "order": null,
      "overflow": null,
      "overflow_x": null,
      "overflow_y": null,
      "padding": null,
      "right": null,
      "top": null,
      "visibility": null,
      "width": null
     }
    },
    "b72c0876b26740d9aec76d293215db3e": {
     "model_module": "@jupyter-widgets/controls",
     "model_name": "VBoxModel",
     "state": {
      "_dom_classes": [
       "widget-interact"
      ],
      "_model_module": "@jupyter-widgets/controls",
      "_model_module_version": "1.5.0",
      "_model_name": "VBoxModel",
      "_view_count": null,
      "_view_module": "@jupyter-widgets/controls",
      "_view_module_version": "1.5.0",
      "_view_name": "VBoxView",
      "box_style": "",
      "children": [
       "IPY_MODEL_2459a8b8723b464380a3c55f08281aa0",
       "IPY_MODEL_c8d523c316284c0193cc182d8dfce444",
       "IPY_MODEL_f0183073b166455d96e9a1decaa6938e",
       "IPY_MODEL_ec601ea4910a4983bedfc94b1303ad3a"
      ],
      "layout": "IPY_MODEL_6579ccd2ecc1489aab6c33e629742abd"
     }
    },
    "c8d523c316284c0193cc182d8dfce444": {
     "model_module": "@jupyter-widgets/controls",
     "model_name": "FloatSliderModel",
     "state": {
      "_dom_classes": [],
      "_model_module": "@jupyter-widgets/controls",
      "_model_module_version": "1.5.0",
      "_model_name": "FloatSliderModel",
      "_view_count": null,
      "_view_module": "@jupyter-widgets/controls",
      "_view_module_version": "1.5.0",
      "_view_name": "FloatSliderView",
      "continuous_update": true,
      "description": "g",
      "description_tooltip": null,
      "disabled": false,
      "layout": "IPY_MODEL_96464bee57ad4789a1423b1cb0197c6c",
      "max": 0.1,
      "min": 0.01,
      "orientation": "horizontal",
      "readout": true,
      "readout_format": ".2f",
      "step": 1e-05,
      "style": "IPY_MODEL_4f53389f39304840892d707301a573b1",
      "value": 0.05500000000000001
     }
    },
    "e6e51398567b4d69935f7e43ba68135f": {
     "model_module": "@jupyter-widgets/controls",
     "model_name": "SliderStyleModel",
     "state": {
      "_model_module": "@jupyter-widgets/controls",
      "_model_module_version": "1.5.0",
      "_model_name": "SliderStyleModel",
      "_view_count": null,
      "_view_module": "@jupyter-widgets/base",
      "_view_module_version": "1.2.0",
      "_view_name": "StyleView",
      "description_width": "",
      "handle_color": null
     }
    },
    "ec601ea4910a4983bedfc94b1303ad3a": {
     "model_module": "@jupyter-widgets/output",
     "model_name": "OutputModel",
     "state": {
      "_dom_classes": [],
      "_model_module": "@jupyter-widgets/output",
      "_model_module_version": "1.0.0",
      "_model_name": "OutputModel",
      "_view_count": null,
      "_view_module": "@jupyter-widgets/output",
      "_view_module_version": "1.0.0",
      "_view_name": "OutputView",
      "layout": "IPY_MODEL_d8f6961c1a5a4c73ab4baf46a0e7590d",
      "msg_id": "",
      "outputs": [
       {
        "image/png": "iVBORw0KGgoAAAANSUhEUgAAA7kAAAHwCAYAAABjb6hNAAAABHNCSVQICAgIfAhkiAAAAAlwSFlz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\nIiIiVeP/A5QLIxHtUm3KAAAAAElFTkSuQmCC\n",
        "metadata": {
         "tags": []
        },
        "output_type": "display_data",
        "text/plain": "<Figure size 1152x576 with 1 Axes>"
       }
      ]
     }
    },
    "f0183073b166455d96e9a1decaa6938e": {
     "model_module": "@jupyter-widgets/controls",
     "model_name": "IntSliderModel",
     "state": {
      "_dom_classes": [],
      "_model_module": "@jupyter-widgets/controls",
      "_model_module_version": "1.5.0",
      "_model_name": "IntSliderModel",
      "_view_count": null,
      "_view_module": "@jupyter-widgets/controls",
      "_view_module_version": "1.5.0",
      "_view_name": "IntSliderView",
      "continuous_update": true,
      "description": "Pop",
      "description_tooltip": null,
      "disabled": false,
      "layout": "IPY_MODEL_aec6f4bfb6a24f96b31a92592a12293a",
      "max": 10000,
      "min": 1000,
      "orientation": "horizontal",
      "readout": true,
      "readout_format": "d",
      "step": 1,
      "style": "IPY_MODEL_f5e66f94fed74a0ba02086c07016c4bf",
      "value": 5500
     }
    },
    "f5e66f94fed74a0ba02086c07016c4bf": {
     "model_module": "@jupyter-widgets/controls",
     "model_name": "SliderStyleModel",
     "state": {
      "_model_module": "@jupyter-widgets/controls",
      "_model_module_version": "1.5.0",
      "_model_name": "SliderStyleModel",
      "_view_count": null,
      "_view_module": "@jupyter-widgets/base",
      "_view_module_version": "1.2.0",
      "_view_name": "StyleView",
      "description_width": "",
      "handle_color": null
     }
    }
   }
  }
 },
 "nbformat": 4,
 "nbformat_minor": 1
}
